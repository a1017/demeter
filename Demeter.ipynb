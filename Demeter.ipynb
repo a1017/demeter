{
 "worksheets": [
  {
   "cells": [
    {
     "cell_type": "markdown",
     "metadata": {},
     "source": [
      "### A couple themes for iPython Notebook\n",
      "\n",
      "This is what you gotta do..."
     ]
    },
    {
     "cell_type": "code",
     "metadata": {},
     "outputs": [],
     "input": [
      "import os\n",
      "import subprocess\n",
      "import urllib\n",
      "\n",
      "theme_names = ['3024-dark',\n",
      "               '3024-light',\n",
      "               'atelierdune-dark',\n",
      "               'atelierdune-light',\n",
      "               'atelierforest-dark',\n",
      "               'atelierforest-light',\n",
      "               'atelierheath-dark',\n",
      "               'atelierheath-light',\n",
      "               'atelierlakeside-dark',\n",
      "               'atelierlakeside-light',\n",
      "               'atelierseaside-dark',\n",
      "               'atelierseaside-light',\n",
      "               'bespin-dark',\n",
      "               'bespin-light',\n",
      "               'chalk-dark',\n",
      "               'chalk-light',\n",
      "               'default-dark',\n",
      "               'default-light',\n",
      "               'eighties-dark',\n",
      "               'eighties-light',\n",
      "               'grayscale-dark',\n",
      "               'grayscale-light',\n",
      "               'greenscreen-dark',\n",
      "               'greenscreen-light',\n",
      "               'isotope-dark',\n",
      "               'isotope-light',\n",
      "               'londontube-dark',\n",
      "               'londontube-light',\n",
      "               'marrakesh-dark',\n",
      "               'marrakesh-light',\n",
      "               'mocha-dark',\n",
      "               'mocha-light',\n",
      "               'monokai-dark',\n",
      "               'monokai-light',\n",
      "               'ocean-dark',\n",
      "               'ocean-light',\n",
      "               'paraiso-dark',\n",
      "               'paraiso-light',\n",
      "               'railscasts-dark',\n",
      "               'railscasts-light',\n",
      "               'shapeshifter-dark',\n",
      "               'shapeshifter-light',\n",
      "               'solarized-dark',\n",
      "               'solarized-light',\n",
      "               'tomorrow-dark',\n",
      "               'tomorrow-light',\n",
      "               'twilight-dark',\n",
      "               'twilight-light']\n",
      "\n",
      "for i in theme_names:\n",
      "    !ipython profile create $i\n",
      "    profile_dir = !ipython locate profile $i\n",
      "    url = \"https://raw.githubusercontent.com/nsonnad/base16-ipython-notebook/master/base16-\" + i + \".css\"\n",
      "    tgt = os.path.join(profile_dir[0], 'static', 'custom', \"custom.css\")\n",
      "    urllib.urlretrieve (url, tgt)"
     ],
     "language": "python",
     "prompt_number": 17
    },
    {
     "cell_type": "code",
     "metadata": {},
     "outputs": [],
     "input": [
      "for i, name in enumerate(theme_names):\n",
      "    port = str(9000 + i) \n",
      "    subprocess.Popen([\"ipython\", \"notebook\", \"--profile=\" + name, \"--port=\" + port, \"--no-browser\"])"
     ],
     "language": "python",
     "prompt_number": 15
    },
    {
     "cell_type": "code",
     "metadata": {},
     "outputs": [],
     "input": [
      "base_url = \"http://127.0.0.1:\"\n",
      "notebook = \"/notebooks/48-themes-for-your-ipython-notebook.ipynb\"\n",
      "\n",
      "for i, name in enumerate(theme_names):\n",
      "    port = str(9000 + i) \n",
      "    url = base_url + port + notebook\n",
      "    #print url, name"
     ],
     "language": "python",
     "prompt_number": 16
    },
    {
     "cell_type": "code",
     "metadata": {},
     "outputs": [
      {
       "output_type": "stream",
       "stream": "stdout",
       "text": [
        "No matching processes belonging to you were found\r\n"
       ]
      }
     ],
     "input": [
      "!killall -9 ipython"
     ],
     "language": "python",
     "prompt_number": 10
    },
    {
     "cell_type": "markdown",
     "metadata": {},
     "source": [
      "# A Brief Look into US Startup Data\n",
      "\n",
      "This is a fairly high-level overview of how to get started with information discovery. It is a fairly free form examination of data I found on Angel.co. In particular, we'll being looking at raising startup information in the US. We'll talk about:\n",
      "\n",
      "* Getting, verifying and validating data\n",
      "* Visualizing data\n",
      "* Introspection\n",
      "\n",
      "We will start off with some Python code for getting data against."
     ]
    },
    {
     "cell_type": "code",
     "metadata": {},
     "outputs": [],
     "input": [
      "# ORM for MySQL\n",
      "import peewee\n",
      "\n",
      "# File containing our PeeWee models\n",
      "import models\n",
      "\n",
      "# A simple model\n",
      "from models import Startup, Location"
     ],
     "language": "python",
     "prompt_number": 16
    },
    {
     "cell_type": "markdown",
     "metadata": {},
     "source": [
      "Next, we'll output that data to a list."
     ]
    },
    {
     "cell_type": "code",
     "metadata": {},
     "outputs": [
      {
       "output_type": "stream",
       "stream": "stdout",
       "text": [
        "Total startups: 4543 \n",
        "Startups asscoiated with a location: 4461\n",
        "San Francisco: 232"
       ]
      },
      {
       "output_type": "stream",
       "stream": "stdout",
       "text": [
        "\n"
       ]
      }
     ],
     "input": [
      "print \"Total startups: %s \" % (Startup.select().count())\n",
      "print \"Startups asscoiated with a location: %s\" % (Startup.select().join(Location).count())\n",
      "print \"San Francisco: %s\" % (Startup.select().join(Location).where(Location.name == \"san francisco\").count())"
     ],
     "language": "python",
     "prompt_number": 17
    },
    {
     "cell_type": "code",
     "metadata": {},
     "outputs": [
      {
       "output_type": "stream",
       "stream": "stdout",
       "text": [
        "Distinct locations: 983\n"
       ]
      }
     ],
     "input": [
      "from peewee import fn\n",
      "\n",
      "dst_locs = Location.select(fn.Count(fn.Distinct(Location.name))).scalar()\n",
      "\n",
      "print \"Distinct locations: %s\" % (dst_locs)"
     ],
     "language": "python",
     "prompt_number": 18
    },
    {
     "cell_type": "markdown",
     "metadata": {},
     "source": [
      "Now, we need to import our CSV of city latitude and longitude (location data). From here we will use this list to cross-examine the available cities in our ```startup``` table."
     ]
    },
    {
     "cell_type": "code",
     "metadata": {},
     "outputs": [],
     "input": [
      "import csv\n",
      "\n",
      "states = {}\n",
      "with open(\"cities_states.csv\", \"rb\") as csvfile:\n",
      "    reader = csv.reader(csvfile, delimiter=',', quotechar='|')\n",
      "    for row in reader:\n",
      "        if states.has_key(row[1].lower()):\n",
      "            states[row[1].lower()][\"cities\"].append({\n",
      "                \"name\": row[2].lower(),\n",
      "                \"location\": [row[4].lower(), row[3].lower()]\n",
      "            })\n",
      "        else:\n",
      "            states[row[1].lower()] = {\n",
      "                \"cities\": [{\n",
      "                    \"name\": row[2].lower(),\n",
      "                    \"location\": [row[4].lower(), row[3].lower()]\n",
      "                }]\n",
      "            }"
     ],
     "language": "python",
     "prompt_number": 19
    },
    {
     "cell_type": "markdown",
     "metadata": {},
     "source": [
      "Next we need to get a csv of all the startups in the US, each complete with a list of locations that include longitude and latitude data"
     ]
    },
    {
     "cell_type": "code",
     "metadata": {},
     "outputs": [
      {
       "output_type": "stream",
       "stream": "stdout",
       "text": [
        "2635\n"
       ]
      }
     ],
     "input": [
      "def get_city_coords(city, state=None):\n",
      "    for s in states:\n",
      "        for c in states[s][\"cities\"]:\n",
      "            if c[\"name\"] == city:\n",
      "                if state:\n",
      "                    if state == s:                    \n",
      "                        # State and city match\n",
      "                        return c\n",
      "                    else:\n",
      "                        break\n",
      "                else:\n",
      "                    return c\n",
      "    \n",
      "    \n",
      "startups = {}\n",
      "for startup in Startup.select().join(Location):\n",
      "    locations = Location.select().where(Location.startup==startup)\n",
      "    for l in locations:\n",
      "        state = None\n",
      "        location = l.name.split(',')\n",
      "        if len(location) > 1:\n",
      "            state = location[1].lower()\n",
      "        city = location[0]\n",
      "        city_info = get_city_coords(city, state)\n",
      "        if city_info:\n",
      "            if not startups.has_key(startup.id):                \n",
      "                startups[startup.id] = {\n",
      "                    \"name\": startup.name,\n",
      "                    \"quality\": startup.quality,\n",
      "                    \"locations\": []\n",
      "                }\n",
      "            startups[startup.id][\"locations\"].append(city_info)\n",
      "print len(startups)"
     ],
     "language": "python",
     "prompt_number": 20
    },
    {
     "cell_type": "markdown",
     "metadata": {},
     "source": [
      "After taking a quick look at our array, we'll save it to a json file for use in our graph."
     ]
    },
    {
     "cell_type": "code",
     "metadata": {},
     "outputs": [],
     "input": [
      "import json\n",
      "\n",
      "with open(\"startups.json\", \"wb\") as outfile:\n",
      "    json.dump(startups, outfile)"
     ],
     "language": "python",
     "prompt_number": 21
    },
    {
     "cell_type": "markdown",
     "metadata": {},
     "source": [
      "Angel.co startups all have an attribrute called \"quality\". We'll grab this this property and factor this into our graph."
     ]
    },
    {
     "cell_type": "code",
     "metadata": {},
     "outputs": [
      {
       "output_type": "stream",
       "stream": "stdout",
       "text": [
        "Populating the interactive namespace from numpy and matplotlib\n"
       ]
      },
      {
       "output_type": "pyout",
       "prompt_number": 23,
       "text": [
        "[<matplotlib.lines.Line2D at 0x1146c3c10>]"
       ],
       "metadata": {}
      },
      {
       "output_type": "display_data",
       "png": "[encoded data removed]",
       "text": [
        "<matplotlib.figure.Figure at 0x1113b8810>"
       ],
       "metadata": {}
      }
     ],
     "input": [
      "%pylab inline\n",
      "\n",
      "x = np.linspace(0, 10, 100)\n",
      "plt.plot(x, np.sin(x))"
     ],
     "language": "python",
     "prompt_number": 23
    },
    {
     "cell_type": "markdown",
     "metadata": {},
     "source": [
      "Plotting two dimensional SVMs"
     ]
    },
    {
     "cell_type": "code",
     "metadata": {},
     "outputs": [
      {
       "output_type": "display_data",
       "png": "[encoded data removed]",
       "text": [
        "<matplotlib.figure.Figure at 0x10eeebe10>"
       ],
       "metadata": {}
      }
     ],
     "input": [
      "%matplotlib inline\n",
      "\n",
      "# Use seaborn styles for nice-looking plots\n",
      "import seaborn; seaborn.set()\n",
      "\n",
      "import numpy as np\n",
      "import matplotlib.pyplot as plt\n",
      "from sklearn import svm, datasets\n",
      "\n",
      "y = [0, 1, 2]\n",
      "X = np.array([[ 4.9,  3.0], [ 5.1,  3.5], [ 5.7,  4.4]])\n",
      "\n",
      "# we create an instance of SVM and fit out data. We do not scale our\n",
      "# data since we want to plot the support vectors\n",
      "C = 1.0 # SVM regularization parameter\n",
      "h = .02 # step size in the mesh\n",
      "svc = svm.SVC(kernel='linear', C=C).fit(X, y)\n",
      "rbf_svc = svm.SVC(kernel='rbf', gamma=0.7, C=C).fit(X, y)\n",
      "poly_svc = svm.SVC(kernel='poly', degree=3, C=C).fit(X, y)\n",
      "lin_svc = svm.LinearSVC(C=C).fit(X, y)\n",
      "\n",
      "# create a mesh to plot in\n",
      "x_min, x_max = X[:, 0].min() - 1, X[:, 0].max() + 1\n",
      "y_min, y_max = X[:, 1].min() - 1, X[:, 1].max() + 1\n",
      "xx, yy = np.meshgrid(np.arange(x_min, x_max, h),\n",
      "                     np.arange(y_min, y_max, h))\n",
      "\n",
      "# title for the plots\n",
      "titles = ['SVC with linear kernel',\n",
      "          'LinearSVC (linear kernel)',\n",
      "          'SVC with RBF kernel',\n",
      "          'SVC with polynomial (degree 3) kernel']\n",
      "\n",
      "for i, clf in enumerate((svc, lin_svc, rbf_svc, poly_svc)):\n",
      "    # Plot the decision boundary. For that, we will assign a color to each\n",
      "    # point in the mesh [x_min, m_max]x[y_min, y_max].\n",
      "    plt.subplot(2, 2, i + 1)\n",
      "    plt.subplots_adjust(wspace=0.4, hspace=0.4)\n",
      "\n",
      "    Z = clf.predict(np.c_[xx.ravel(), yy.ravel()])\n",
      "\n",
      "    # Put the result into a color plot\n",
      "    Z = Z.reshape(xx.shape)\n",
      "    plt.contourf(xx, yy, Z, cmap=plt.cm.Paired, alpha=0.8)\n",
      "\n",
      "    # Plot also the training points\n",
      "    plt.scatter(X[:, 0], X[:, 1], c=y, cmap=plt.cm.Paired)\n",
      "    plt.xlabel(\"Feature X\")\n",
      "    plt.ylabel(\"Feature Y\")\n",
      "    plt.xlim(xx.min(), xx.max())\n",
      "    plt.ylim(yy.min(), yy.max())\n",
      "    plt.xticks(())\n",
      "    plt.yticks(())\n",
      "    plt.title(titles[i])\n",
      "\n",
      "plt.show()"
     ],
     "language": "python",
     "prompt_number": 31
    },
    {
     "cell_type": "code",
     "metadata": {},
     "outputs": [
      {
       "output_type": "pyout",
       "prompt_number": 27,
       "text": [
        "array([0])"
       ],
       "metadata": {}
      }
     ],
     "input": [
      "clf.predict([[1, 1]])"
     ],
     "language": "python",
     "prompt_number": 27
    },
    {
     "cell_type": "code",
     "metadata": {},
     "outputs": [
      {
       "output_type": "stream",
       "stream": "stdout",
       "text": [
        "Populating the interactive namespace from numpy and matplotlib\n"
       ]
      },
      {
       "ename": "ValueError",
       "evalue": "X.shape[1] = 2 should be equal to 3, the number of features at training time",
       "output_type": "pyerr",
       "traceback": [
        "\u001b[0;31m---------------------------------------------------------------------------\u001b[0m\n\u001b[0;31mValueError\u001b[0m                                Traceback (most recent call last)",
        "\u001b[0;32m<ipython-input-13-f8c4eb086062>\u001b[0m in \u001b[0;36m<module>\u001b[0;34m()\u001b[0m\n\u001b[1;32m     41\u001b[0m     \u001b[0mplt\u001b[0m\u001b[0;34m.\u001b[0m\u001b[0msubplots_adjust\u001b[0m\u001b[0;34m(\u001b[0m\u001b[0mwspace\u001b[0m\u001b[0;34m=\u001b[0m\u001b[0;36m0.4\u001b[0m\u001b[0;34m,\u001b[0m \u001b[0mhspace\u001b[0m\u001b[0;34m=\u001b[0m\u001b[0;36m0.4\u001b[0m\u001b[0;34m)\u001b[0m\u001b[0;34m\u001b[0m\u001b[0m\n\u001b[1;32m     42\u001b[0m \u001b[0;34m\u001b[0m\u001b[0m\n\u001b[0;32m---> 43\u001b[0;31m     \u001b[0mZ\u001b[0m \u001b[0;34m=\u001b[0m \u001b[0mclf\u001b[0m\u001b[0;34m.\u001b[0m\u001b[0mpredict\u001b[0m\u001b[0;34m(\u001b[0m\u001b[0mnp\u001b[0m\u001b[0;34m.\u001b[0m\u001b[0mc_\u001b[0m\u001b[0;34m[\u001b[0m\u001b[0mxx\u001b[0m\u001b[0;34m.\u001b[0m\u001b[0mravel\u001b[0m\u001b[0;34m(\u001b[0m\u001b[0;34m)\u001b[0m\u001b[0;34m,\u001b[0m \u001b[0myy\u001b[0m\u001b[0;34m.\u001b[0m\u001b[0mravel\u001b[0m\u001b[0;34m(\u001b[0m\u001b[0;34m)\u001b[0m\u001b[0;34m]\u001b[0m\u001b[0;34m)\u001b[0m\u001b[0;34m\u001b[0m\u001b[0m\n\u001b[0m\u001b[1;32m     44\u001b[0m \u001b[0;34m\u001b[0m\u001b[0m\n\u001b[1;32m     45\u001b[0m     \u001b[0;31m# Put the result into a color plot\u001b[0m\u001b[0;34m\u001b[0m\u001b[0;34m\u001b[0m\u001b[0m\n",
        "\u001b[0;32m/Library/Python/2.7/site-packages/sklearn/svm/base.pyc\u001b[0m in \u001b[0;36mpredict\u001b[0;34m(self, X)\u001b[0m\n\u001b[1;32m    465\u001b[0m             \u001b[0mClass\u001b[0m \u001b[0mlabels\u001b[0m \u001b[0;32mfor\u001b[0m \u001b[0msamples\u001b[0m \u001b[0;32min\u001b[0m \u001b[0mX\u001b[0m\u001b[0;34m.\u001b[0m\u001b[0;34m\u001b[0m\u001b[0m\n\u001b[1;32m    466\u001b[0m         \"\"\"\n\u001b[0;32m--> 467\u001b[0;31m         \u001b[0my\u001b[0m \u001b[0;34m=\u001b[0m \u001b[0msuper\u001b[0m\u001b[0;34m(\u001b[0m\u001b[0mBaseSVC\u001b[0m\u001b[0;34m,\u001b[0m \u001b[0mself\u001b[0m\u001b[0;34m)\u001b[0m\u001b[0;34m.\u001b[0m\u001b[0mpredict\u001b[0m\u001b[0;34m(\u001b[0m\u001b[0mX\u001b[0m\u001b[0;34m)\u001b[0m\u001b[0;34m\u001b[0m\u001b[0m\n\u001b[0m\u001b[1;32m    468\u001b[0m         \u001b[0;32mreturn\u001b[0m \u001b[0mself\u001b[0m\u001b[0;34m.\u001b[0m\u001b[0mclasses_\u001b[0m\u001b[0;34m.\u001b[0m\u001b[0mtake\u001b[0m\u001b[0;34m(\u001b[0m\u001b[0mnp\u001b[0m\u001b[0;34m.\u001b[0m\u001b[0masarray\u001b[0m\u001b[0;34m(\u001b[0m\u001b[0my\u001b[0m\u001b[0;34m,\u001b[0m \u001b[0mdtype\u001b[0m\u001b[0;34m=\u001b[0m\u001b[0mnp\u001b[0m\u001b[0;34m.\u001b[0m\u001b[0mintp\u001b[0m\u001b[0;34m)\u001b[0m\u001b[0;34m)\u001b[0m\u001b[0;34m\u001b[0m\u001b[0m\n\u001b[1;32m    469\u001b[0m \u001b[0;34m\u001b[0m\u001b[0m\n",
        "\u001b[0;32m/Library/Python/2.7/site-packages/sklearn/svm/base.pyc\u001b[0m in \u001b[0;36mpredict\u001b[0;34m(self, X)\u001b[0m\n\u001b[1;32m    281\u001b[0m         \u001b[0my_pred\u001b[0m \u001b[0;34m:\u001b[0m \u001b[0marray\u001b[0m\u001b[0;34m,\u001b[0m \u001b[0mshape\u001b[0m \u001b[0;34m(\u001b[0m\u001b[0mn_samples\u001b[0m\u001b[0;34m,\u001b[0m\u001b[0;34m)\u001b[0m\u001b[0;34m\u001b[0m\u001b[0m\n\u001b[1;32m    282\u001b[0m         \"\"\"\n\u001b[0;32m--> 283\u001b[0;31m         \u001b[0mX\u001b[0m \u001b[0;34m=\u001b[0m \u001b[0mself\u001b[0m\u001b[0;34m.\u001b[0m\u001b[0m_validate_for_predict\u001b[0m\u001b[0;34m(\u001b[0m\u001b[0mX\u001b[0m\u001b[0;34m)\u001b[0m\u001b[0;34m\u001b[0m\u001b[0m\n\u001b[0m\u001b[1;32m    284\u001b[0m         \u001b[0mpredict\u001b[0m \u001b[0;34m=\u001b[0m \u001b[0mself\u001b[0m\u001b[0;34m.\u001b[0m\u001b[0m_sparse_predict\u001b[0m \u001b[0;32mif\u001b[0m \u001b[0mself\u001b[0m\u001b[0;34m.\u001b[0m\u001b[0m_sparse\u001b[0m \u001b[0;32melse\u001b[0m \u001b[0mself\u001b[0m\u001b[0;34m.\u001b[0m\u001b[0m_dense_predict\u001b[0m\u001b[0;34m\u001b[0m\u001b[0m\n\u001b[1;32m    285\u001b[0m         \u001b[0;32mreturn\u001b[0m \u001b[0mpredict\u001b[0m\u001b[0;34m(\u001b[0m\u001b[0mX\u001b[0m\u001b[0;34m)\u001b[0m\u001b[0;34m\u001b[0m\u001b[0m\n",
        "\u001b[0;32m/Library/Python/2.7/site-packages/sklearn/svm/base.pyc\u001b[0m in \u001b[0;36m_validate_for_predict\u001b[0;34m(self, X)\u001b[0m\n\u001b[1;32m    403\u001b[0m             raise ValueError(\"X.shape[1] = %d should be equal to %d, \"\n\u001b[1;32m    404\u001b[0m                              \u001b[0;34m\"the number of features at training time\"\u001b[0m \u001b[0;34m%\u001b[0m\u001b[0;34m\u001b[0m\u001b[0m\n\u001b[0;32m--> 405\u001b[0;31m                              (n_features, self.shape_fit_[1]))\n\u001b[0m\u001b[1;32m    406\u001b[0m         \u001b[0;32mreturn\u001b[0m \u001b[0mX\u001b[0m\u001b[0;34m\u001b[0m\u001b[0m\n\u001b[1;32m    407\u001b[0m \u001b[0;34m\u001b[0m\u001b[0m\n",
        "\u001b[0;31mValueError\u001b[0m: X.shape[1] = 2 should be equal to 3, the number of features at training time"
       ]
      },
      {
       "output_type": "display_data",
       "png": "[encoded data removed]",
       "text": [
        "<matplotlib.figure.Figure at 0x11138e310>"
       ],
       "metadata": {}
      }
     ],
     "input": [
      "%pylab inline\n",
      "\n",
      "import numpy as np\n",
      "import matplotlib.pyplot as plt\n",
      "from sklearn import svm, datasets\n",
      "\n",
      "\n",
      "# Looking at three dimensional arrays now\n",
      "y = [0, 1, 2, 4]\n",
      "X = np.array([[ 4.9,  3.0, 4.5], \n",
      "              [ 5.1,  3.5, 5.4], \n",
      "              [ 2.1,  5.0, 1.3],  \n",
      "              [ 5.7,  4.4, 4.2]])\n",
      "\n",
      "C = 1.0 # SVM regularization parameter\n",
      "h = .02 # step size in the mesh\n",
      "\n",
      "# Create an instance of an SVM and fit out data. We do not scale our\n",
      "# data since we want to plot the support vectors\n",
      "svc = svm.SVC(kernel=\"linear\", C=C).fit(X, y)\n",
      "rbf_svc = svm.SVC(kernel=\"rbf\", gamma=0.7, C=C).fit(X, y)\n",
      "poly_svc = svm.SVC(kernel=\"poly\", degree=3, C=C).fit(X, y)\n",
      "lin_svc = svm.LinearSVC(C=C).fit(X, y)\n",
      "\n",
      "# Create a mesh to plot in\n",
      "x_min, x_max = X[:, 0].min() - 1, X[:, 0].max() + 1\n",
      "y_min, y_max = X[:, 1].min() - 1, X[:, 1].max() + 1\n",
      "xx, yy = np.meshgrid(np.arange(x_min, x_max, h),\n",
      "                     np.arange(y_min, y_max, h))\n",
      "\n",
      "# title for the plots\n",
      "titles = ['SVC with linear kernel',\n",
      "          'LinearSVC (linear kernel)',\n",
      "          'SVC with RBF kernel',\n",
      "          'SVC with polynomial (degree 3) kernel']\n",
      "\n",
      "for i, clf in enumerate((svc, lin_svc, rbf_svc, poly_svc)):\n",
      "    # Plot the decision boundary. For that, we will assign a color to each\n",
      "    # point in the mesh [x_min, m_max]x[y_min, y_max].\n",
      "    plt.subplot(2, 2, i + 1)\n",
      "    plt.subplots_adjust(wspace=0.4, hspace=0.4)\n",
      "\n",
      "    Z = clf.predict(np.c_[xx.ravel(), yy.ravel()])\n",
      "\n",
      "    # Put the result into a color plot\n",
      "    Z = Z.reshape(xx.shape)\n",
      "    plt.contourf(xx, yy, Z, cmap=plt.cm.Paired, alpha=0.8)\n",
      "\n",
      "    # Plot also the training points\n",
      "    plt.scatter(X[:, 0], X[:, 1], c=y, cmap=plt.cm.Paired)\n",
      "    plt.xlabel(\"Feature X\")\n",
      "    plt.ylabel(\"Feature Y\")\n",
      "    plt.xlim(xx.min(), xx.max())\n",
      "    plt.ylim(yy.min(), yy.max())\n",
      "    plt.xticks(())\n",
      "    plt.yticks(())\n",
      "    plt.title(titles[i])\n",
      "\n",
      "plt.show()"
     ],
     "language": "python",
     "prompt_number": 13
    },
    {
     "cell_type": "code",
     "metadata": {},
     "outputs": [
      {
       "output_type": "stream",
       "stream": "stdout",
       "text": [
        "Startup count: 2635\n"
       ]
      },
      {
       "output_type": "pyout",
       "prompt_number": 67,
       "text": [
        "array([[ 1.],\n",
        "       [ 1.],\n",
        "       [ 1.],\n",
        "       ..., \n",
        "       [ 1.],\n",
        "       [ 1.],\n",
        "       [ 1.]])"
       ],
       "metadata": {}
      }
     ],
     "input": [
      "from sklearn.feature_extraction import DictVectorizer\n",
      "\n",
      "dct = []\n",
      "labels = []\n",
      "for start in startups:\n",
      "    st = startups[start]\n",
      "    s = {\n",
      "        # NAME\n",
      "        \"loc_count\": len(st[\"locations\"]),\n",
      "    }\n",
      "    labels.append(st[\"quality\"])\n",
      "    dct.append(s)\n",
      "\n",
      "print \"Startup count: %s\" % (len(dct))\n",
      "\n",
      "vec = DictVectorizer()\n",
      "vec.fit_transform(dct).toarray()"
     ],
     "language": "python",
     "prompt_number": 67
    },
    {
     "cell_type": "code",
     "metadata": {},
     "outputs": [
      {
       "output_type": "pyout",
       "prompt_number": 73,
       "text": [
        "array([3])"
       ],
       "metadata": {}
      }
     ],
     "input": [
      "clf = svm.SVC()\n",
      "clf.fit(vec.fit_transform(dct).toarray(), labels)"
     ],
     "language": "python",
     "prompt_number": 73
    },
    {
     "cell_type": "code",
     "metadata": {},
     "outputs": [
      {
       "output_type": "pyout",
       "prompt_number": 91,
       "text": [
        "array([2])"
       ],
       "metadata": {}
      }
     ],
     "input": [
      "clf.predict([10])"
     ],
     "language": "python",
     "prompt_number": 91
    },
    {
     "cell_type": "code",
     "metadata": {},
     "outputs": [],
     "input": [
      ""
     ],
     "language": "python"
    }
   ]
  }
 ],
 "cells": [],
 "metadata": {
  "name": "",
  "signature": "sha256:8f71bca43bdfb3f00e9d9e4b9db8a2ff9209e1a8035a0fd8416d197b40f52229"
 },
 "nbformat": 3,
 "nbformat_minor": 0
}